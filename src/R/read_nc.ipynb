{
 "cells": [
  {
   "cell_type": "markdown",
   "metadata": {},
   "source": [
    "# Processing netcdf files\n",
    "\n",
    "load required R packages"
   ]
  },
  {
   "cell_type": "code",
   "execution_count": 36,
   "metadata": {},
   "outputs": [
    {
     "name": "stderr",
     "output_type": "stream",
     "text": [
      "Updating HTML index of packages in '.Library'\n",
      "Making 'packages.html' ... done\n",
      "Updating HTML index of packages in '.Library'\n",
      "Making 'packages.html' ... done\n",
      "Warning message in install.packages(\"rgdal\"):\n",
      "“installation of package ‘rgdal’ had non-zero exit status”Updating HTML index of packages in '.Library'\n",
      "Making 'packages.html' ... done\n",
      "Updating HTML index of packages in '.Library'\n",
      "Making 'packages.html' ... done\n",
      "Loading required package: rgdal\n",
      "Warning message in library(package, lib.loc = lib.loc, character.only = TRUE, logical.return = TRUE, :\n",
      "“there is no package called ‘rgdal’”"
     ]
    }
   ],
   "source": [
    "install.packages(\"ncdf4\")\n",
    "install.packages(\"raster\")\n",
    "install.packages(\"rgdal\")\n",
    "install.packages(\"leaflet\")\n",
    "\n",
    "require(dplyr)\n",
    "require(ncdf4)\n",
    "require(ggplot2)\n",
    "require(raster)\n",
    "require(leaflet)\n",
    "require(rgdal)"
   ]
  },
  {
   "cell_type": "markdown",
   "metadata": {},
   "source": [
    "Source function for aggregating netcdf"
   ]
  },
  {
   "cell_type": "code",
   "execution_count": 37,
   "metadata": {},
   "outputs": [],
   "source": [
    "source(\"read_nc.R\")"
   ]
  },
  {
   "cell_type": "markdown",
   "metadata": {},
   "source": [
    "Function call:<br>\n",
    "<p>read_nc(file,stat=\"mean\", timesteps=c(1:364), varno=3, unitfactor=1, cleanNA=T)<p>\n",
    "                 \n",
    "Parameters:<br>\n",
    "* file: netcdf file\n",
    "* stat: \"mean\" or \"90pc\". Default = \"mean\"\n",
    "* timesteps: time range over which we should aggregate. Default = c(1:364)\n",
    "* varno: the number of the variable we are interested in. Default=3\n",
    "* unitfactor: conversion factor. Default=1\n",
    "               e.g.  use unitfactor=0.032*0.7 for converting Dissolved Oxygen mmol/m3 -> mg/L -> ml/L\n",
    "* cleanNA: drop data points where the variable is NA. Default = TRUE\n",
    "               "
   ]
  },
  {
   "cell_type": "code",
   "execution_count": 38,
   "metadata": {},
   "outputs": [
    {
     "name": "stdout",
     "output_type": "stream",
     "text": [
      "[1] \"lon_rho\"   \"lat_rho\"   \"Cs_r\"      \"h\"         \"light_Chl\"\n",
      "[1] \"light_Chl[mg/m^3] [ndims=4] averaged light/total chlorophyll a\"\n"
     ]
    }
   ],
   "source": [
    "# define function parameters for Chl\n",
    "\n",
    "ncfile=\"../../../shared/martini/martini800_v2_Chl_surf.nc\"\n",
    "statistic=\"90pc\"\n",
    "timesteps=c(1:364)\n",
    "varno=5\n",
    "unitfactor=1\n",
    "\n",
    "# call the function\n",
    "df <- read_nc(ncfile, statistic, timesteps, varno, unitfactor)\n",
    "\n"
   ]
  },
  {
   "cell_type": "code",
   "execution_count": 39,
   "metadata": {},
   "outputs": [
    {
     "data": {
      "text/html": [
       "<ol class=list-inline>\n",
       "\t<li>'id'</li>\n",
       "\t<li>'lat'</li>\n",
       "\t<li>'lon'</li>\n",
       "\t<li>'value'</li>\n",
       "\t<li>'err1'</li>\n",
       "\t<li>'err2'</li>\n",
       "</ol>\n"
      ],
      "text/latex": [
       "\\begin{enumerate*}\n",
       "\\item 'id'\n",
       "\\item 'lat'\n",
       "\\item 'lon'\n",
       "\\item 'value'\n",
       "\\item 'err1'\n",
       "\\item 'err2'\n",
       "\\end{enumerate*}\n"
      ],
      "text/markdown": [
       "1. 'id'\n",
       "2. 'lat'\n",
       "3. 'lon'\n",
       "4. 'value'\n",
       "5. 'err1'\n",
       "6. 'err2'\n",
       "\n",
       "\n"
      ],
      "text/plain": [
       "[1] \"id\"    \"lat\"   \"lon\"   \"value\" \"err1\"  \"err2\" "
      ]
     },
     "metadata": {},
     "output_type": "display_data"
    }
   ],
   "source": [
    "names(df)"
   ]
  },
  {
   "cell_type": "code",
   "execution_count": 40,
   "metadata": {},
   "outputs": [],
   "source": [
    "# read table matching id from nc data to positions in the epsg3035 grid\n",
    "df_points<-read.table(file=\"grid_epsg3035.txt\",header=T,stringsAsFactors=F,sep=\";\")\n",
    "\n",
    "# rename the 'value' parameter in df\n",
    "df <- df %>%\n",
    "    dplyr::select(ID=id,value)\n",
    "\n",
    "param = \"Chl\"\n",
    "names(df)[names(df)==\"value\"]<-param\n",
    "\n",
    "# join the dataframe to positions in EPSG3035\n",
    "df <- df_points %>%\n",
    "  left_join(df,by=\"ID\")\n"
   ]
  },
  {
   "cell_type": "code",
   "execution_count": 41,
   "metadata": {},
   "outputs": [
    {
     "ename": "ERROR",
     "evalue": "Error in .rasterObjectFromFile(x, band = band, objecttype = \"RasterLayer\", : Cannot create RasterLayer object from this file; perhaps you need to install rgdal first\n",
     "output_type": "error",
     "traceback": [
      "Error in .rasterObjectFromFile(x, band = band, objecttype = \"RasterLayer\", : Cannot create RasterLayer object from this file; perhaps you need to install rgdal first\nTraceback:\n",
      "1. raster(\"blank_raster.tif\")",
      "2. raster(\"blank_raster.tif\")",
      "3. .local(x, ...)",
      "4. .rasterObjectFromFile(x, band = band, objecttype = \"RasterLayer\", \n .     ...)",
      "5. stop(\"Cannot create RasterLayer object from this file; perhaps you need to install rgdal first\")"
     ]
    }
   ],
   "source": [
    "# load the 'blank' raster file\n",
    "r <- raster(\"blank_raster.tif\")\n",
    "crs(r) <- CRS('+init=epsg:3035')\n",
    "\n",
    "x <- rasterize(df[, 1:2], r, df[,4], fun=mean)\n",
    "  \n",
    "# save the raster file\n",
    "  #rf <- writeRaster(x, filename=paste0(\"raster/\",param,\".grd\",overwrite=TRUE))\n",
    "  \n",
    "plot(x, main=param)\n"
   ]
  }
 ],
 "metadata": {
  "kernelspec": {
   "display_name": "R",
   "language": "R",
   "name": "ir"
  },
  "language_info": {
   "codemirror_mode": "r",
   "file_extension": ".r",
   "mimetype": "text/x-r-source",
   "name": "R",
   "pygments_lexer": "r",
   "version": "3.6.1"
  }
 },
 "nbformat": 4,
 "nbformat_minor": 4
}
